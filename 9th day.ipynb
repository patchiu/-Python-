{
 "cells": [
  {
   "cell_type": "markdown",
   "metadata": {},
   "source": [
    "量化分析师的Python日记【第9天 Q Quant兵器谱之二叉树】"
   ]
  },
  {
   "cell_type": "code",
   "execution_count": 2,
   "metadata": {},
   "outputs": [],
   "source": [
    "import numpy as np\n",
    "import math\n",
    "import seaborn as sns\n",
    "from matplotlib import pylab\n"
   ]
  },
  {
   "cell_type": "code",
   "execution_count": 3,
   "metadata": {},
   "outputs": [],
   "source": [
    "# 设置基本参数\n",
    "ttm = 3.0\n",
    "tSteps = 25\n",
    "r = 0.03\n",
    "d = 0.02\n",
    "sigma = 0.2\n",
    "strike = 100.0\n",
    "spot = 100.0"
   ]
  },
  {
   "cell_type": "code",
   "execution_count": 10,
   "metadata": {},
   "outputs": [],
   "source": [
    "# 二叉树框架（可以通过传入不同的treeTraits类型，设计不同的二叉树结构）\n",
    "class BinomialTree:\n",
    "    def __init__(self, spot, riskFree, dividend, tSteps, maturity, sigma, treeTraits):\n",
    "        self.dt = maturity / tSteps\n",
    "        self.spot = spot\n",
    "        self.r = riskFree\n",
    "        self.d = dividend\n",
    "        self.tSteps = tSteps\n",
    "        self.discount = math.exp(-self.r*self.dt)\n",
    "        self.v = sigma\n",
    "        self.up = treeTraits.up(self)\n",
    "        self.down = treeTraits.down(self)\n",
    "        self.upProbability = treeTraits.upProbability(self)\n",
    "        self.downProbability = 1.0 - self.upProbability\n",
    "        self._build_lattice()\n",
    "\n",
    "    def _build_lattice(self):\n",
    "        '''\n",
    "        完成构造二叉树的工作\n",
    "        '''\n",
    "        self.lattice = np.zeros((self.tSteps+1, self.tSteps+1))\n",
    "        self.lattice[0][0] = self.spot\n",
    "        for i in range(self.tSteps):\n",
    "            for j in range(i+1):\n",
    "                self.lattice[i+1][j+1] = self.up * self.lattice[i][j]\n",
    "            self.lattice[i+1][0] = self.down * self.lattice[i][0]\n",
    "\n",
    "    def roll_back(self, payOff):\n",
    "        '''\n",
    "        节点计算，并反向倒推\n",
    "        '''\n",
    "        for i in range(self.tSteps,0,-1):\n",
    "            for j in range(i,0,-1):\n",
    "                if i == self.tSteps:\n",
    "                    self.lattice[i-1][j-1] = self.discount * (self.upProbability * payOff(self.lattice[i][j]) + self.downProbability * payOff(self.lattice[i][j-1]))\n",
    "                else:\n",
    "                    self.lattice[i-1][j-1] = self.discount * (self.upProbability *  self.lattice[i][j] + self.downProbability * self.lattice[i][j-1])"
   ]
  },
  {
   "cell_type": "code",
   "execution_count": 11,
   "metadata": {},
   "outputs": [],
   "source": [
    "class JarrowRuddTraits:\n",
    "    @staticmethod\n",
    "    def up(tree):\n",
    "        return math.exp((tree.r - tree.d - 0.5*tree.v*tree.v)*tree.dt + tree.v*math.sqrt(tree.dt))\n",
    "\n",
    "    @staticmethod\n",
    "    def down(tree):\n",
    "        return math.exp((tree.r - tree.d - 0.5*tree.v*tree.v)*tree.dt - tree.v*math.sqrt(tree.dt))\n",
    "\n",
    "    @staticmethod\n",
    "    def upProbability(tree):\n",
    "        return 0.5"
   ]
  },
  {
   "cell_type": "code",
   "execution_count": 12,
   "metadata": {},
   "outputs": [],
   "source": [
    "class CRRTraits:  \n",
    "    @staticmethod\n",
    "    def up(tree):\n",
    "        return math.exp(tree.v * math.sqrt(tree.dt))\n",
    "\n",
    "    @staticmethod\n",
    "    def down(tree):\n",
    "        return math.exp(-tree.v * math.sqrt(tree.dt))\n",
    "\n",
    "    @staticmethod\n",
    "    def upProbability(tree):\n",
    "        return 0.5 + 0.5 * (tree.r - tree.d - 0.5 * tree.v*tree.v) * tree.dt / tree.v / math.sqrt(tree.dt)"
   ]
  },
  {
   "cell_type": "code",
   "execution_count": 13,
   "metadata": {},
   "outputs": [],
   "source": [
    "def pay_off(spot):\n",
    "    global strike\n",
    "    return max(spot - strike, 0.0)"
   ]
  },
  {
   "cell_type": "code",
   "execution_count": 15,
   "metadata": {},
   "outputs": [
    {
     "name": "stdout",
     "output_type": "stream",
     "text": [
      "二叉树价格： 14.2663\n"
     ]
    }
   ],
   "source": [
    "testTree = BinomialTree(spot, r, d, tSteps, ttm, sigma, JarrowRuddTraits)\n",
    "testTree.roll_back(pay_off)\n",
    "print (u'二叉树价格： %.4f' % testTree.lattice[0][0])"
   ]
  },
  {
   "cell_type": "code",
   "execution_count": 17,
   "metadata": {},
   "outputs": [],
   "source": [
    "stepSizes = range(25, 500,25)\n",
    "jrRes = []\n",
    "crrRes = []\n",
    "for tSteps in stepSizes:\n",
    "    # Jarrow - Rudd 结果\n",
    "    testTree = BinomialTree(spot, r, d, tSteps, ttm, sigma, JarrowRuddTraits)\n",
    "    testTree.roll_back(pay_off)\n",
    "    jrRes.append(testTree.lattice[0][0])\n",
    "\n",
    "    # Cox - Ross - Rubinstein 结果\n",
    "    testTree = BinomialTree(spot, r, d, tSteps, ttm, sigma, CRRTraits)\n",
    "    testTree.roll_back(pay_off)\n",
    "    crrRes.append(testTree.lattice[0][0])"
   ]
  },
  {
   "cell_type": "code",
   "execution_count": 18,
   "metadata": {},
   "outputs": [
    {
     "ename": "NameError",
     "evalue": "name 'BSMPrice' is not defined",
     "output_type": "error",
     "traceback": [
      "\u001b[1;31m---------------------------------------------------------------------------\u001b[0m",
      "\u001b[1;31mNameError\u001b[0m                                 Traceback (most recent call last)",
      "\u001b[1;32m<ipython-input-18-03f1a6ac91b7>\u001b[0m in \u001b[0;36m<module>\u001b[1;34m\u001b[0m\n\u001b[1;32m----> 1\u001b[1;33m \u001b[0manyRes\u001b[0m \u001b[1;33m=\u001b[0m \u001b[1;33m[\u001b[0m\u001b[0mBSMPrice\u001b[0m\u001b[1;33m(\u001b[0m\u001b[1;36m1\u001b[0m\u001b[1;33m,\u001b[0m \u001b[0mstrike\u001b[0m\u001b[1;33m,\u001b[0m \u001b[0mspot\u001b[0m\u001b[1;33m,\u001b[0m \u001b[0mr\u001b[0m\u001b[1;33m,\u001b[0m \u001b[0md\u001b[0m\u001b[1;33m,\u001b[0m \u001b[0msigma\u001b[0m\u001b[1;33m,\u001b[0m \u001b[0mttm\u001b[0m\u001b[1;33m,\u001b[0m \u001b[0mrawOutput\u001b[0m\u001b[1;33m=\u001b[0m \u001b[1;32mTrue\u001b[0m\u001b[1;33m)\u001b[0m\u001b[1;33m[\u001b[0m\u001b[1;36m0\u001b[0m\u001b[1;33m]\u001b[0m\u001b[1;33m]\u001b[0m \u001b[1;33m*\u001b[0m \u001b[0mlen\u001b[0m\u001b[1;33m(\u001b[0m\u001b[0mstepSizes\u001b[0m\u001b[1;33m)\u001b[0m\u001b[1;33m\u001b[0m\u001b[1;33m\u001b[0m\u001b[0m\n\u001b[0m\u001b[0;32m      2\u001b[0m \u001b[1;33m\u001b[0m\u001b[0m\n\u001b[0;32m      3\u001b[0m \u001b[0mpylab\u001b[0m\u001b[1;33m.\u001b[0m\u001b[0mfigure\u001b[0m\u001b[1;33m(\u001b[0m\u001b[0mfigsize\u001b[0m \u001b[1;33m=\u001b[0m \u001b[1;33m(\u001b[0m\u001b[1;36m16\u001b[0m\u001b[1;33m,\u001b[0m\u001b[1;36m8\u001b[0m\u001b[1;33m)\u001b[0m\u001b[1;33m)\u001b[0m\u001b[1;33m\u001b[0m\u001b[1;33m\u001b[0m\u001b[0m\n\u001b[0;32m      4\u001b[0m \u001b[0mpylab\u001b[0m\u001b[1;33m.\u001b[0m\u001b[0mplot\u001b[0m\u001b[1;33m(\u001b[0m\u001b[0mstepSizes\u001b[0m\u001b[1;33m,\u001b[0m \u001b[0mjrRes\u001b[0m\u001b[1;33m,\u001b[0m \u001b[1;34m'-.'\u001b[0m\u001b[1;33m,\u001b[0m \u001b[0mmarker\u001b[0m \u001b[1;33m=\u001b[0m \u001b[1;34m'o'\u001b[0m\u001b[1;33m,\u001b[0m \u001b[0mmarkersize\u001b[0m \u001b[1;33m=\u001b[0m \u001b[1;36m10\u001b[0m\u001b[1;33m)\u001b[0m\u001b[1;33m\u001b[0m\u001b[1;33m\u001b[0m\u001b[0m\n\u001b[0;32m      5\u001b[0m \u001b[0mpylab\u001b[0m\u001b[1;33m.\u001b[0m\u001b[0mplot\u001b[0m\u001b[1;33m(\u001b[0m\u001b[0mstepSizes\u001b[0m\u001b[1;33m,\u001b[0m \u001b[0mcrrRes\u001b[0m\u001b[1;33m,\u001b[0m \u001b[1;34m'-.'\u001b[0m\u001b[1;33m,\u001b[0m \u001b[0mmarker\u001b[0m \u001b[1;33m=\u001b[0m \u001b[1;34m'd'\u001b[0m\u001b[1;33m,\u001b[0m \u001b[0mmarkersize\u001b[0m \u001b[1;33m=\u001b[0m \u001b[1;36m10\u001b[0m\u001b[1;33m)\u001b[0m\u001b[1;33m\u001b[0m\u001b[1;33m\u001b[0m\u001b[0m\n",
      "\u001b[1;31mNameError\u001b[0m: name 'BSMPrice' is not defined"
     ]
    }
   ],
   "source": [
    "anyRes = [BSMPrice(1, strike, spot, r, d, sigma, ttm, rawOutput= True)[0]] * len(stepSizes)\n",
    "\n",
    "pylab.figure(figsize = (16,8))\n",
    "pylab.plot(stepSizes, jrRes, '-.', marker = 'o', markersize = 10)\n",
    "pylab.plot(stepSizes, crrRes, '-.', marker = 'd', markersize = 10)\n",
    "pylab.plot(stepSizes, anyRes, '--')\n",
    "pylab.legend(['Jarrow - Rudd', 'Cox - Ross - Rubinstein', u'解析解'], prop = font)\n",
    "pylab.xlabel(u'二叉树步数', fontproperties = font)\n",
    "pylab.title(u'二叉树算法收敛性测试', fontproperties = font, fontsize = 20)"
   ]
  },
  {
   "cell_type": "code",
   "execution_count": null,
   "metadata": {},
   "outputs": [],
   "source": []
  }
 ],
 "metadata": {
  "kernelspec": {
   "display_name": "Python 3",
   "language": "python",
   "name": "python3"
  },
  "language_info": {
   "codemirror_mode": {
    "name": "ipython",
    "version": 3
   },
   "file_extension": ".py",
   "mimetype": "text/x-python",
   "name": "python",
   "nbconvert_exporter": "python",
   "pygments_lexer": "ipython3",
   "version": "3.7.7"
  }
 },
 "nbformat": 4,
 "nbformat_minor": 4
}
