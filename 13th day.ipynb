{
 "cells": [
  {
   "cell_type": "markdown",
   "metadata": {},
   "source": [
    "BSM模型"
   ]
  },
  {
   "cell_type": "code",
   "execution_count": 1,
   "metadata": {},
   "outputs": [],
   "source": [
    "import numpy as np\n",
    "import math\n",
    "import seaborn as sns\n",
    "from matplotlib import pylab\n"
   ]
  },
  {
   "cell_type": "code",
   "execution_count": 2,
   "metadata": {},
   "outputs": [],
   "source": [
    "import scipy as sp\n",
    "from scipy.linalg import solve_banded"
   ]
  },
  {
   "cell_type": "code",
   "execution_count": 3,
   "metadata": {},
   "outputs": [],
   "source": [
    "class BSMModel:\n",
    "\n",
    "    def __init__(self, s0, r, sigma):\n",
    "        self.s0 = s0\n",
    "        self.x0 = math.log(s0)\n",
    "        self.r = r\n",
    "        self.sigma = sigma\n",
    "\n",
    "    def log_expectation(self, T):\n",
    "        return self.x0 + (self.r - 0.5 * self.sigma * self.sigma) * T\n",
    "\n",
    "    def expectation(self, T):\n",
    "        return math.exp(self.log_expectation(T))\n",
    "\n",
    "    def x_max(self, T):\n",
    "        return self.log_expectation(T) + 4.0 * self.sigma * math.sqrt(T)\n",
    "\n",
    "    def x_min(self, T):\n",
    "        return self.log_expectation(T) - 4.0 * self.sigma * math.sqrt(T)"
   ]
  },
  {
   "cell_type": "code",
   "execution_count": 4,
   "metadata": {},
   "outputs": [],
   "source": [
    "class CallOption:\n",
    "\n",
    "    def __init__(self, strike):\n",
    "        self.k = strike\n",
    "\n",
    "    def ic(self, spot):\n",
    "        return max(spot - self.k, 0.0)\n",
    "\n",
    "    def bcl(self, spot, tau, model):\n",
    "        return 0.0\n",
    "\n",
    "    def bcr(self, spot, tau, model):\n",
    "        return spot - math.exp(-model.r*tau) * self.k"
   ]
  },
  {
   "cell_type": "code",
   "execution_count": 7,
   "metadata": {},
   "outputs": [],
   "source": [
    "class BSMScheme:\n",
    "    def __init__(self, model, payoff, T, M, N):\n",
    "        self.model = model\n",
    "        self.T = T\n",
    "        self.M = M\n",
    "        self.N = N\n",
    "        self.dt = self.T / self.M\n",
    "        self.payoff = payoff\n",
    "        self.x_min = model.x_min(self.T)\n",
    "        self.x_max = model.x_max(self.T)\n",
    "        self.dx = (self.x_max - self.x_min) / self.N\n",
    "        self.C = np.zeros((self.N+1, self.M+1)) # 全部网格\n",
    "        self.xArray = np.linspace(self.x_min, self.x_max, self.N+1)\n",
    "        self.C[:,0] = list(map(self.payoff.ic, np.exp(self.xArray)))\n",
    "\n",
    "        sigma_square = self.model.sigma*self.model.sigma\n",
    "        r = self.model.r\n",
    "\n",
    "        self.l_j = -(0.5*sigma_square*self.dt/self.dx/self.dx - 0.5 * (r - 0.5 * sigma_square)*self.dt/self.dx)\n",
    "        self.c_j = 1.0 + sigma_square*self.dt/self.dx/self.dx + r*self.dt\n",
    "        self.u_j = -(0.5*sigma_square*self.dt/self.dx/self.dx + 0.5 * (r - 0.5 * sigma_square)*self.dt/self.dx)\n",
    "\n",
    "    def roll_back(self):\n",
    "\n",
    "        for k in range(0, self.M):\n",
    "            udiag = np.ones(self.N-1) * self.u_j\n",
    "            ldiag =  np.ones(self.N-1) * self.l_j\n",
    "            cdiag =  np.ones(self.N-1) * self.c_j\n",
    "\n",
    "            mat = np.zeros((3,self.N-1))\n",
    "            mat[0,:] = udiag\n",
    "            mat[1,:] = cdiag\n",
    "            mat[2,:] = ldiag\n",
    "            rhs = np.copy(self.C[1:self.N,k])\n",
    "\n",
    "            # 应用左端边值条件\n",
    "            v1 = self.payoff.bcl(math.exp(self.x_min), (k+1)*self.dt, self.model)\n",
    "            rhs[0] -= self.l_j * v1\n",
    "\n",
    "            # 应用右端边值条件\n",
    "            v2 = self.payoff.bcr(math.exp(self.x_max), (k+1)*self.dt, self.model)\n",
    "            rhs[-1] -= self.u_j * v2\n",
    "\n",
    "            x = solve_banded((1,1), mat, rhs)\n",
    "            self.C[1:self.N, k+1] = x\n",
    "            self.C[0][k+1] = v1\n",
    "            self.C[self.N][k+1] = v2\n",
    "\n",
    "    def mesh_grids(self):\n",
    "        tArray = np.linspace(0, self.T, self.M+1)\n",
    "        tGrids, xGrids = np.meshgrid(tArray, self.xArray)\n",
    "        return tGrids, xGrids"
   ]
  },
  {
   "cell_type": "code",
   "execution_count": 8,
   "metadata": {},
   "outputs": [],
   "source": [
    "model = BSMModel(100.0, 0.05, 0.2)\n",
    "payoff = CallOption(105.0)\n",
    "scheme = BSMScheme(model, payoff, 5.0, 100, 300)"
   ]
  },
  {
   "cell_type": "code",
   "execution_count": 9,
   "metadata": {},
   "outputs": [],
   "source": [
    "scheme.roll_back()"
   ]
  },
  {
   "cell_type": "code",
   "execution_count": 10,
   "metadata": {},
   "outputs": [
    {
     "data": {
      "text/plain": [
       "Text(0, 0.5, '$C$')"
      ]
     },
     "execution_count": 10,
     "metadata": {},
     "output_type": "execute_result"
    },
    {
     "data": {
      "image/png": "[encoded data removed]",
      "text/plain": [
       "<Figure size 864x576 with 1 Axes>"
      ]
     },
     "metadata": {
      "needs_background": "light"
     },
     "output_type": "display_data"
    }
   ],
   "source": [
    "from matplotlib import pylab\n",
    "pylab.figure(figsize=(12,8))\n",
    "pylab.plot(np.exp(scheme.xArray)[50:170], scheme.C[50:170,-1])\n",
    "pylab.xlabel('$S$')\n",
    "pylab.ylabel('$C$')"
   ]
  },
  {
   "cell_type": "code",
   "execution_count": null,
   "metadata": {},
   "outputs": [],
   "source": []
  }
 ],
 "metadata": {
  "kernelspec": {
   "display_name": "Python 3",
   "language": "python",
   "name": "python3"
  },
  "language_info": {
   "codemirror_mode": {
    "name": "ipython",
    "version": 3
   },
   "file_extension": ".py",
   "mimetype": "text/x-python",
   "name": "python",
   "nbconvert_exporter": "python",
   "pygments_lexer": "ipython3",
   "version": "3.7.7"
  }
 },
 "nbformat": 4,
 "nbformat_minor": 4
}
